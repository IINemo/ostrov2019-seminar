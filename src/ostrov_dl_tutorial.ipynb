{
 "cells": [
  {
   "cell_type": "markdown",
   "metadata": {},
   "source": [
    "[![Open In Colab](https://colab.research.google.com/assets/colab-badge.svg)](https://colab.research.google.com/github/IINemo/ostrov2019-seminar/blob/master/src/symptom_checker.ipynb)"
   ]
  },
  {
   "cell_type": "markdown",
   "metadata": {},
   "source": [
    "# Preparations"
   ]
  },
  {
   "cell_type": "code",
   "execution_count": null,
   "metadata": {
    "colab": {
     "base_uri": "https://localhost:8080/",
     "height": 408
    },
    "colab_type": "code",
    "id": "ozbmUzM0lQRH",
    "outputId": "86d6e4a4-e7ba-4358-f522-a614044c39ad"
   },
   "outputs": [],
   "source": [
    "!wget http://www.nactem.ac.uk/tsujii/GENIA/ERtask/Genia4ERtraining.tar.gz\n",
    "!wget http://www.nactem.ac.uk/tsujii/GENIA/ERtask/Genia4ERtest.tar.gz"
   ]
  },
  {
   "cell_type": "code",
   "execution_count": 2,
   "metadata": {
    "colab": {},
    "colab_type": "code",
    "id": "Bv_d957gliGZ"
   },
   "outputs": [],
   "source": [
    "!tar -xf Genia4ERtraining.tar.gz\n",
    "!tar -xf Genia4ERtest.tar.gz"
   ]
  },
  {
   "cell_type": "code",
   "execution_count": null,
   "metadata": {
    "colab": {
     "base_uri": "https://localhost:8080/",
     "height": 1000
    },
    "colab_type": "code",
    "id": "S6FBfQCCT5z5",
    "outputId": "cb48fe05-57e0-44c5-e115-b1e20ab9b89f"
   },
   "outputs": [],
   "source": [
    "!pip install flair\n",
    "!pip install allennlp"
   ]
  },
  {
   "cell_type": "markdown",
   "metadata": {},
   "source": [
    "# Train a tagging model"
   ]
  },
  {
   "cell_type": "code",
   "execution_count": null,
   "metadata": {
    "colab": {
     "base_uri": "https://localhost:8080/",
     "height": 355
    },
    "colab_type": "code",
    "id": "Zy-XqC0kmqOZ",
    "outputId": "df164157-e1c9-46e0-c2a5-b965b9af0175"
   },
   "outputs": [],
   "source": [
    "from flair.datasets import ColumnCorpus\n",
    "from flair.data import Corpus\n",
    "\n",
    "\n",
    "# 1. Get corpus\n",
    "corpus: Corpus = ColumnCorpus(data_folder='./',\n",
    "                      column_format={0: 'text', \n",
    "                                     1: 'ner'},\n",
    "                      train_file='Genia4ERtask1.iob2', \n",
    "                      test_file='Genia4EReval1.iob2').downsample(0.5)\n",
    "print(corpus)\n",
    "for tag in corpus.make_tag_dictionary('ner').get_items():\n",
    "    print(tag)"
   ]
  },
  {
   "cell_type": "code",
   "execution_count": null,
   "metadata": {
    "colab": {
     "base_uri": "https://localhost:8080/",
     "height": 1000
    },
    "colab_type": "code",
    "id": "XMzDOFbml2QD",
    "outputId": "4fa998c6-c55c-4c81-ca55-3448771394ae"
   },
   "outputs": [],
   "source": [
    "from flair.embeddings import TokenEmbeddings, WordEmbeddings, StackedEmbeddings, CharacterEmbeddings, FlairEmbeddings, ELMoEmbeddings\n",
    "from typing import List\n",
    "from flair.models import SequenceTagger\n",
    "from flair.trainers import ModelTrainer\n",
    "\n",
    "\n",
    "tag_type = 'ner'\n",
    "tag_dictionary = corpus.make_tag_dictionary(tag_type=tag_type)\n",
    "print(tag_dictionary.idx2item)\n",
    "\n",
    "\n",
    "embedding_types: List[TokenEmbeddings] = [\n",
    "\n",
    "    # TODO: <==================== Try uncommenting different lines\n",
    "    WordEmbeddings('en-glove'),\n",
    "    # WordEmbeddings('en')\n",
    "    # WordEmbeddings('en-crawl')\n",
    "\n",
    "    # TODO: <==================== Try uncommenting different lines\n",
    "    # CharacterEmbeddings(),\n",
    "    # FlairEmbeddings('pubmed-forward'),\n",
    "    # FlairEmbeddings('pubmed-backward'),\n",
    "    # FlairEmbeddings('news-forward'),\n",
    "    # FlairEmbeddings('news-backward'),\n",
    "    # ELMoEmbeddings('pubmed')\n",
    "]\n",
    "\n",
    "embeddings: StackedEmbeddings = StackedEmbeddings(embeddings=embedding_types)\n",
    "\n",
    "\n",
    "\n",
    "\n",
    "tagger: SequenceTagger = SequenceTagger(hidden_size=128,   # <========= TODO: Try to modify this: 200, 250\n",
    "                                        embeddings=embeddings,\n",
    "                                        tag_dictionary=tag_dictionary,\n",
    "                                        tag_type=tag_type,\n",
    "                                        use_crf=True)\n",
    "\n",
    "trainer: ModelTrainer = ModelTrainer(tagger, corpus)\n",
    "trainer.train('taggers/bio-ner',\n",
    "              learning_rate=0.1,\n",
    "              mini_batch_size=80, # <=========== TODO: Try to decrease this: 60, 30\n",
    "              max_epochs=10, # <============ TODO: Try to increase this: 15, 20\n",
    "              eval_mini_batch_size=100) "
   ]
  },
  {
   "cell_type": "markdown",
   "metadata": {},
   "source": [
    "# Plot training curves"
   ]
  },
  {
   "cell_type": "code",
   "execution_count": null,
   "metadata": {},
   "outputs": [],
   "source": [
    "# 8. plot training curves (optional)\n",
    "\n",
    "loss_stats_path = 'taggers/bio-ner/loss.tsv'\n",
    "with open(loss_stats_path, 'r') as f:\n",
    "    lines = f.readlines()\n",
    "\n",
    "with open(loss_stats_path, 'w') as f:\n",
    "    f.write('\\n'.join(e.strip() for e in lines if e.strip()))\n",
    "\n",
    "from flair.visual.training_curves import Plotter\n",
    "plotter = Plotter()\n",
    "plotter.plot_training_curves(loss_stats_path)\n",
    "import matplotlib.image as mpimg\n",
    "import matplotlib.pyplot as plt\n",
    "%matplotlib inline\n",
    "img = mpimg.imread('taggers/bio-ner/training.png')\n",
    "plt.figure(dpi=300)\n",
    "plt.imshow(img, )"
   ]
  },
  {
   "cell_type": "markdown",
   "metadata": {},
   "source": [
    "# Evaluate model"
   ]
  },
  {
   "cell_type": "markdown",
   "metadata": {},
   "source": [
    "Homework: You have to get at least F1=0.62 !"
   ]
  },
  {
   "cell_type": "code",
   "execution_count": 12,
   "metadata": {},
   "outputs": [
    {
     "name": "stdout",
     "output_type": "stream",
     "text": [
      "2019-07-13 22:01:16,730 loading file taggers/bio-ner/best-model.pt\n",
      "Test F1 score: 0.5512\n"
     ]
    }
   ],
   "source": [
    "trained_model = SequenceTagger.load('taggers/bio-ner/best-model.pt')\n",
    "eval_res, eval_loss = trained_model.evaluate(\n",
    "                        corpus.test,\n",
    "                        eval_mini_batch_size=100)\n",
    "print('Test F1 score:', eval_res.main_score)"
   ]
  },
  {
   "cell_type": "markdown",
   "metadata": {},
   "source": [
    "# Use model to analyze texts"
   ]
  },
  {
   "cell_type": "code",
   "execution_count": 13,
   "metadata": {},
   "outputs": [
    {
     "name": "stdout",
     "output_type": "stream",
     "text": [
      "2019-07-13 22:01:47,994 loading file taggers/bio-ner/best-model.pt\n"
     ]
    }
   ],
   "source": [
    "trained_model = SequenceTagger.load('taggers/bio-ner/best-model.pt')"
   ]
  },
  {
   "cell_type": "code",
   "execution_count": null,
   "metadata": {},
   "outputs": [],
   "source": [
    "from flair.data import Sentence\n",
    "\n",
    "#text = 'Freshly isolated cells contain high levels of G0S2 mRNA which rapidly decline .'\n",
    "#text = 'In THP-1 cells , TPA also induced a new , faster-migrating NF kappa B species not induced in monocytes .'\n",
    "text = 'Fibroblast growth factors ( FGFs ) are heparin-binding proteins crucial to embryogenesis , angiogenesis , and wound healing .'\n",
    "\n",
    "trained_model.predict(Sentence(text))[0].to_tagged_string()"
   ]
  }
 ],
 "metadata": {
  "accelerator": "GPU",
  "colab": {
   "collapsed_sections": [],
   "name": "2035_tutorial.ipynb",
   "provenance": [],
   "version": "0.3.2"
  },
  "kernelspec": {
   "display_name": "Python 3",
   "language": "python",
   "name": "python3"
  },
  "language_info": {
   "codemirror_mode": {
    "name": "ipython",
    "version": 3
   },
   "file_extension": ".py",
   "mimetype": "text/x-python",
   "name": "python",
   "nbconvert_exporter": "python",
   "pygments_lexer": "ipython3",
   "version": "3.6.7"
  }
 },
 "nbformat": 4,
 "nbformat_minor": 2
}
